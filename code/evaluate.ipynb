{
 "cells": [
  {
   "cell_type": "markdown",
   "metadata": {},
   "source": [
    "### Evaluation of transcriptions\n",
    "\n",
    "- 5 random transcriptions chosen\n",
    "- Correct lyrics researched online\n",
    "- Lyrics combined in pairs\n",
    "- Metrics calculated for each pair comparison:\n",
    "    - Word Error Rate\n",
    "    - Rouge Score\n",
    "    - Cosine Similarity"
   ]
  },
  {
   "cell_type": "code",
   "execution_count": 3,
   "metadata": {},
   "outputs": [],
   "source": [
    "from rouge_score import rouge_scorer\n",
    "import jiwer\n",
    "from sklearn.feature_extraction.text import TfidfVectorizer\n",
    "from sklearn.metrics.pairwise import cosine_similarity"
   ]
  },
  {
   "cell_type": "code",
   "execution_count": null,
   "metadata": {},
   "outputs": [],
   "source": [
    "# Initialise lyric pairs\n",
    "lyric_pairs = [\n",
    "    (\"transcribed lyrics 1\", \"reference lyrics 1\"),\n",
    "    (\"transcribed lyrics 2\", \"reference lyrics 2\"),\n",
    "    (\"transcribed lyrics 3\", \"reference lyrics 3\"),\n",
    "    (\"transcribed lyrics 4\", \"reference lyrics 4\"),\n",
    "    (\"transcribed lyrics 5\", \"reference lyrics 5\")\n",
    "]\n",
    "\n",
    "# Function for retrieving the text from the .txt files\n",
    "def read_file(file_path):\n",
    "    with open(file_path, 'r', encoding='utf-8') as file:\n",
    "        return file.read()\n",
    "\n",
    "# Define file paths for the transcribed and reference lyrics\n",
    "transcribed_files = [r'..\\transcriptions\\favourites\\03.txt', r'..\\transcriptions\\favourites\\04.txt', r'..\\transcriptions\\recommend\\007.txt', r'..\\transcriptions\\recommend\\012.txt', r'..\\transcriptions\\Doomsday.txt']\n",
    "reference_files = [r'..\\transcriptions\\favourites\\03 reference.txt', r'..\\transcriptions\\favourites\\04 reference.txt', r'..\\transcriptions\\recommend\\007 reference.txt', r'..\\transcriptions\\recommend\\012 reference.txt', r'..\\transcriptions\\Doomsday reference.txt']\n",
    "\n",
    "# Add lyric pairs to the list\n",
    "lyric_pairs = []\n",
    "\n",
    "for t_file, r_file in zip(transcribed_files, reference_files):\n",
    "    transcribed_lyrics = read_file(t_file)\n",
    "    reference_lyrics = read_file(r_file)\n",
    "    lyric_pairs.append((transcribed_lyrics, reference_lyrics))\n"
   ]
  },
  {
   "cell_type": "code",
   "execution_count": null,
   "metadata": {},
   "outputs": [
    {
     "name": "stdout",
     "output_type": "stream",
     "text": [
      "Pair 1:\n",
      "  WER: 0.86\n",
      "Pair 2:\n",
      "  WER: 0.88\n",
      "Pair 3:\n",
      "  WER: 0.36\n",
      "Pair 4:\n",
      "  WER: 0.52\n",
      "Pair 5:\n",
      "  WER: 0.30\n"
     ]
    }
   ],
   "source": [
    "# Calculate Word Error Rate (WER) for each pair (lower is better)\n",
    "\n",
    "# Iterate over each pair of lyrics and calculate WER scores\n",
    "for i, (transcribed, reference) in enumerate(lyric_pairs, start=1):\n",
    "    wer = jiwer.wer(reference, transcribed)\n",
    "\n",
    "    print(f\"Pair {i}:\")\n",
    "    print(f\"  WER: {wer:.2f}\")"
   ]
  },
  {
   "cell_type": "code",
   "execution_count": null,
   "metadata": {},
   "outputs": [
    {
     "name": "stdout",
     "output_type": "stream",
     "text": [
      "Pair 1:\n",
      "  ROUGE-1: 0.63, ROUGE-L: 0.58\n",
      "Pair 2:\n",
      "  ROUGE-1: 0.69, ROUGE-L: 0.61\n",
      "Pair 3:\n",
      "  ROUGE-1: 0.88, ROUGE-L: 0.86\n",
      "Pair 4:\n",
      "  ROUGE-1: 0.84, ROUGE-L: 0.82\n",
      "Pair 5:\n",
      "  ROUGE-1: 0.90, ROUGE-L: 0.90\n"
     ]
    }
   ],
   "source": [
    "# Calculate Rouge Score for each pair (higher is better)\n",
    "\n",
    "# Rouge L = convert lyrics into lowercase, remove punctuation \n",
    "\n",
    "# Initialize the scorer for Rouge\n",
    "rouge_scorer = rouge_scorer.RougeScorer(['rouge1', 'rougeL'], use_stemmer=True)\n",
    "\n",
    "# Iterate over each pair of lyrics and calculate Rouge scores\n",
    "for i, (transcribed, reference) in enumerate(lyric_pairs, start=1):\n",
    "    rouge_scores = rouge_scorer.score(transcribed, reference)\n",
    "\n",
    "    print(f\"Pair {i}:\")\n",
    "    print(f\"  ROUGE-1: {rouge_scores['rouge1'].fmeasure:.2f}, ROUGE-L: {rouge_scores['rougeL'].fmeasure:.2f}\")"
   ]
  },
  {
   "cell_type": "code",
   "execution_count": null,
   "metadata": {},
   "outputs": [
    {
     "name": "stdout",
     "output_type": "stream",
     "text": [
      "Pair 1:\n",
      "  Cosine Similarity: 0.61\n",
      "\n",
      "Pair 2:\n",
      "  Cosine Similarity: 0.66\n",
      "\n",
      "Pair 3:\n",
      "  Cosine Similarity: 0.91\n",
      "\n",
      "Pair 4:\n",
      "  Cosine Similarity: 0.91\n",
      "\n",
      "Pair 5:\n",
      "  Cosine Similarity: 0.98\n",
      "\n"
     ]
    }
   ],
   "source": [
    "# Calculate cosine similarity for each pair (higher is better)\n",
    "\n",
    "# Iterate over each pair of lyrics and calculate cosine similarity scores\n",
    "for i, (transcribed, reference) in enumerate(lyric_pairs, start=1):\n",
    "    vectorizer = TfidfVectorizer().fit_transform([transcribed, reference])\n",
    "    vectors = vectorizer.toarray()\n",
    "    cosine_sim = cosine_similarity([vectors[0]], [vectors[1]])[0][0]\n",
    "\n",
    "    print(f\"Pair {i}:\")\n",
    "    print(f\"  Cosine Similarity: {cosine_sim:.2f}\\n\")"
   ]
  }
 ],
 "metadata": {
  "kernelspec": {
   "display_name": "rag_doll",
   "language": "python",
   "name": "python3"
  },
  "language_info": {
   "codemirror_mode": {
    "name": "ipython",
    "version": 3
   },
   "file_extension": ".py",
   "mimetype": "text/x-python",
   "name": "python",
   "nbconvert_exporter": "python",
   "pygments_lexer": "ipython3",
   "version": "3.10.15"
  }
 },
 "nbformat": 4,
 "nbformat_minor": 2
}
